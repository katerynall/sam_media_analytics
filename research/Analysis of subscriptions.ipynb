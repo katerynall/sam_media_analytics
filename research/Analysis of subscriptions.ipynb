{
 "cells": [
  {
   "cell_type": "markdown",
   "id": "c2e22cf1",
   "metadata": {},
   "source": [
    "## Analysis of subscriptions in one country\n",
    "### Results summary:\n",
    "- The number of subscriptions in June (7,891) is higher than the total number of unsubscriptions (6,934) for these users.\n",
    "- The average numbers of subscriptions and unsubscriptions for June are 511 and 193, respectively.\n",
    "- The cumulative number of active (subscribed) users increased from the beginning of the month until the end, reaching up to 9,099 users.\n",
    "- 50% of users (median) are subscribed for 6 minutes or less.\n",
    "- The most used operating system is Android (72%), and the most popular service is 'ps' (38%).\n",
    "- Affiliate 4 is the most profitable, delivering the most transactions, with phone operator C being slightly more frequently used.\n",
    "- Most of the executed transactions failed (72%). The number of failed transactions increased, and the number of delivered transactions decreased over the given time period.\n",
    "- The total revenue from delivered transactions is 75705.6.\n",
    "- Phone operator C has a slightly smaller percentage of delivered transactions compared to others, other two operators have the same number of delivered and failed transactions each.\n",
    "- A significant number of users (54%) did not have any successful payments at all, so it is important to focus on them to finalize their payment process."
   ]
  },
  {
   "cell_type": "code",
   "execution_count": 447,
   "id": "aa5dd5ea",
   "metadata": {},
   "outputs": [],
   "source": [
    "import pandas as pd\n",
    "import numpy as np\n",
    "import seaborn as sns\n",
    "import matplotlib.pyplot as plt"
   ]
  },
  {
   "cell_type": "markdown",
   "id": "59a03411",
   "metadata": {},
   "source": [
    "## 1. Loading and inspecting the data"
   ]
  },
  {
   "cell_type": "code",
   "execution_count": 448,
   "id": "546590ce",
   "metadata": {},
   "outputs": [],
   "source": [
    "# Load and inspect the data\n",
    "users = pd.read_csv('data/users.csv')\n",
    "transactions = pd.read_csv('data/transactions.tsv', sep='\\t')"
   ]
  },
  {
   "cell_type": "code",
   "execution_count": 449,
   "id": "ae7fa01c",
   "metadata": {},
   "outputs": [
    {
     "name": "stdout",
     "output_type": "stream",
     "text": [
      "<class 'pandas.core.frame.DataFrame'>\n",
      "RangeIndex: 14825 entries, 0 to 14824\n",
      "Data columns (total 9 columns):\n",
      " #   Column               Non-Null Count  Dtype  \n",
      "---  ------               --------------  -----  \n",
      " 0   user_id              14825 non-null  object \n",
      " 1   subscription_date    14825 non-null  object \n",
      " 2   phone_operator       14825 non-null  object \n",
      " 3   os_name              14619 non-null  object \n",
      " 4   os_version           14617 non-null  float64\n",
      " 5   affiliate            14773 non-null  object \n",
      " 6   unsubscription_date  6934 non-null   object \n",
      " 7   service              14825 non-null  object \n",
      " 8   aggregator           14825 non-null  object \n",
      "dtypes: float64(1), object(8)\n",
      "memory usage: 1.0+ MB\n"
     ]
    }
   ],
   "source": [
    "users.info()"
   ]
  },
  {
   "cell_type": "code",
   "execution_count": 450,
   "id": "39b9f56f",
   "metadata": {},
   "outputs": [
    {
     "data": {
      "text/html": [
       "<div>\n",
       "<style scoped>\n",
       "    .dataframe tbody tr th:only-of-type {\n",
       "        vertical-align: middle;\n",
       "    }\n",
       "\n",
       "    .dataframe tbody tr th {\n",
       "        vertical-align: top;\n",
       "    }\n",
       "\n",
       "    .dataframe thead th {\n",
       "        text-align: right;\n",
       "    }\n",
       "</style>\n",
       "<table border=\"1\" class=\"dataframe\">\n",
       "  <thead>\n",
       "    <tr style=\"text-align: right;\">\n",
       "      <th></th>\n",
       "      <th>user_id</th>\n",
       "      <th>subscription_date</th>\n",
       "      <th>phone_operator</th>\n",
       "      <th>os_name</th>\n",
       "      <th>os_version</th>\n",
       "      <th>affiliate</th>\n",
       "      <th>unsubscription_date</th>\n",
       "      <th>service</th>\n",
       "      <th>aggregator</th>\n",
       "    </tr>\n",
       "  </thead>\n",
       "  <tbody>\n",
       "    <tr>\n",
       "      <th>0</th>\n",
       "      <td>4b0625b0e19a11ec8a541fcc86ad2588</td>\n",
       "      <td>2022-06-01 11:03:06.000000</td>\n",
       "      <td>C</td>\n",
       "      <td>NaN</td>\n",
       "      <td>NaN</td>\n",
       "      <td>aff_4</td>\n",
       "      <td>2022-06-01 12:23:34.000000</td>\n",
       "      <td>ps</td>\n",
       "      <td>ABC</td>\n",
       "    </tr>\n",
       "    <tr>\n",
       "      <th>1</th>\n",
       "      <td>4058b340e19e11ec95703f2faa3b39a3</td>\n",
       "      <td>2022-06-01 11:32:06.000000</td>\n",
       "      <td>B</td>\n",
       "      <td>Android</td>\n",
       "      <td>8.0</td>\n",
       "      <td>aff_4</td>\n",
       "      <td>NaN</td>\n",
       "      <td>gc</td>\n",
       "      <td>ABC</td>\n",
       "    </tr>\n",
       "    <tr>\n",
       "      <th>2</th>\n",
       "      <td>a0b80170e1b011ec8a541fcc86ad2588</td>\n",
       "      <td>2022-06-01 13:42:29.000000</td>\n",
       "      <td>C</td>\n",
       "      <td>Android</td>\n",
       "      <td>9.0</td>\n",
       "      <td>aff_4</td>\n",
       "      <td>NaN</td>\n",
       "      <td>ma</td>\n",
       "      <td>ABC</td>\n",
       "    </tr>\n",
       "    <tr>\n",
       "      <th>3</th>\n",
       "      <td>91299d70e1d511ec8a541fcc86ad2588</td>\n",
       "      <td>2022-06-01 18:09:04.000000</td>\n",
       "      <td>B</td>\n",
       "      <td>iOS</td>\n",
       "      <td>15.4</td>\n",
       "      <td>aff_4</td>\n",
       "      <td>2022-06-15 08:24:58.000000</td>\n",
       "      <td>ps</td>\n",
       "      <td>ABC</td>\n",
       "    </tr>\n",
       "    <tr>\n",
       "      <th>4</th>\n",
       "      <td>ee930990e1fa11ecb2988337303a8fef</td>\n",
       "      <td>2022-06-01 22:35:02.000000</td>\n",
       "      <td>C</td>\n",
       "      <td>Android</td>\n",
       "      <td>6.0</td>\n",
       "      <td>aff_4</td>\n",
       "      <td>NaN</td>\n",
       "      <td>ma</td>\n",
       "      <td>ABC</td>\n",
       "    </tr>\n",
       "  </tbody>\n",
       "</table>\n",
       "</div>"
      ],
      "text/plain": [
       "                            user_id           subscription_date  \\\n",
       "0  4b0625b0e19a11ec8a541fcc86ad2588  2022-06-01 11:03:06.000000   \n",
       "1  4058b340e19e11ec95703f2faa3b39a3  2022-06-01 11:32:06.000000   \n",
       "2  a0b80170e1b011ec8a541fcc86ad2588  2022-06-01 13:42:29.000000   \n",
       "3  91299d70e1d511ec8a541fcc86ad2588  2022-06-01 18:09:04.000000   \n",
       "4  ee930990e1fa11ecb2988337303a8fef  2022-06-01 22:35:02.000000   \n",
       "\n",
       "  phone_operator  os_name  os_version affiliate         unsubscription_date  \\\n",
       "0              C      NaN         NaN     aff_4  2022-06-01 12:23:34.000000   \n",
       "1              B  Android         8.0     aff_4                         NaN   \n",
       "2              C  Android         9.0     aff_4                         NaN   \n",
       "3              B      iOS        15.4     aff_4  2022-06-15 08:24:58.000000   \n",
       "4              C  Android         6.0     aff_4                         NaN   \n",
       "\n",
       "  service aggregator  \n",
       "0      ps        ABC  \n",
       "1      gc        ABC  \n",
       "2      ma        ABC  \n",
       "3      ps        ABC  \n",
       "4      ma        ABC  "
      ]
     },
     "execution_count": 450,
     "metadata": {},
     "output_type": "execute_result"
    }
   ],
   "source": [
    "users.head()"
   ]
  },
  {
   "cell_type": "code",
   "execution_count": 451,
   "id": "0bceba34",
   "metadata": {},
   "outputs": [
    {
     "data": {
      "text/html": [
       "<div>\n",
       "<style scoped>\n",
       "    .dataframe tbody tr th:only-of-type {\n",
       "        vertical-align: middle;\n",
       "    }\n",
       "\n",
       "    .dataframe tbody tr th {\n",
       "        vertical-align: top;\n",
       "    }\n",
       "\n",
       "    .dataframe thead th {\n",
       "        text-align: right;\n",
       "    }\n",
       "</style>\n",
       "<table border=\"1\" class=\"dataframe\">\n",
       "  <thead>\n",
       "    <tr style=\"text-align: right;\">\n",
       "      <th></th>\n",
       "      <th>user_id</th>\n",
       "      <th>transaction_timestamp</th>\n",
       "      <th>service</th>\n",
       "      <th>phone_operator</th>\n",
       "      <th>status</th>\n",
       "      <th>pricepoint</th>\n",
       "    </tr>\n",
       "  </thead>\n",
       "  <tbody>\n",
       "    <tr>\n",
       "      <th>0</th>\n",
       "      <td>ad54a2e0e16e11ec95703f2faa3b39a3</td>\n",
       "      <td>2022-06-01 05:50:48.000000</td>\n",
       "      <td>ma</td>\n",
       "      <td>C</td>\n",
       "      <td>Failed</td>\n",
       "      <td>3.6</td>\n",
       "    </tr>\n",
       "    <tr>\n",
       "      <th>1</th>\n",
       "      <td>f0769510e19611ecb2988337303a8fef</td>\n",
       "      <td>2022-06-01 10:38:53.000000</td>\n",
       "      <td>ps</td>\n",
       "      <td>A</td>\n",
       "      <td>Failed</td>\n",
       "      <td>3.6</td>\n",
       "    </tr>\n",
       "    <tr>\n",
       "      <th>2</th>\n",
       "      <td>3c7b02e0e1a911ec8a541fcc86ad2588</td>\n",
       "      <td>2022-06-01 12:50:41.000000</td>\n",
       "      <td>cl</td>\n",
       "      <td>A</td>\n",
       "      <td>Failed</td>\n",
       "      <td>3.6</td>\n",
       "    </tr>\n",
       "    <tr>\n",
       "      <th>3</th>\n",
       "      <td>bf9b25f0e1e111ecbaa51f9ae3f5945d</td>\n",
       "      <td>2022-06-01 19:34:40.000000</td>\n",
       "      <td>ma</td>\n",
       "      <td>A</td>\n",
       "      <td>Delivered</td>\n",
       "      <td>3.6</td>\n",
       "    </tr>\n",
       "    <tr>\n",
       "      <th>4</th>\n",
       "      <td>06d76e40e1fd11ec8a541fcc86ad2588</td>\n",
       "      <td>2022-06-01 22:49:27.000000</td>\n",
       "      <td>tv</td>\n",
       "      <td>B</td>\n",
       "      <td>Failed</td>\n",
       "      <td>3.6</td>\n",
       "    </tr>\n",
       "  </tbody>\n",
       "</table>\n",
       "</div>"
      ],
      "text/plain": [
       "                            user_id       transaction_timestamp service  \\\n",
       "0  ad54a2e0e16e11ec95703f2faa3b39a3  2022-06-01 05:50:48.000000      ma   \n",
       "1  f0769510e19611ecb2988337303a8fef  2022-06-01 10:38:53.000000      ps   \n",
       "2  3c7b02e0e1a911ec8a541fcc86ad2588  2022-06-01 12:50:41.000000      cl   \n",
       "3  bf9b25f0e1e111ecbaa51f9ae3f5945d  2022-06-01 19:34:40.000000      ma   \n",
       "4  06d76e40e1fd11ec8a541fcc86ad2588  2022-06-01 22:49:27.000000      tv   \n",
       "\n",
       "  phone_operator     status  pricepoint  \n",
       "0              C     Failed         3.6  \n",
       "1              A     Failed         3.6  \n",
       "2              A     Failed         3.6  \n",
       "3              A  Delivered         3.6  \n",
       "4              B     Failed         3.6  "
      ]
     },
     "execution_count": 451,
     "metadata": {},
     "output_type": "execute_result"
    }
   ],
   "source": [
    "transactions.head()"
   ]
  },
  {
   "cell_type": "code",
   "execution_count": 452,
   "id": "3ecbd089",
   "metadata": {},
   "outputs": [
    {
     "name": "stdout",
     "output_type": "stream",
     "text": [
      "<class 'pandas.core.frame.DataFrame'>\n",
      "RangeIndex: 62877 entries, 0 to 62876\n",
      "Data columns (total 6 columns):\n",
      " #   Column                 Non-Null Count  Dtype  \n",
      "---  ------                 --------------  -----  \n",
      " 0   user_id                62877 non-null  object \n",
      " 1   transaction_timestamp  62877 non-null  object \n",
      " 2   service                62877 non-null  object \n",
      " 3   phone_operator         62877 non-null  object \n",
      " 4   status                 62876 non-null  object \n",
      " 5   pricepoint             62877 non-null  float64\n",
      "dtypes: float64(1), object(5)\n",
      "memory usage: 2.9+ MB\n"
     ]
    }
   ],
   "source": [
    "transactions.info()"
   ]
  },
  {
   "cell_type": "markdown",
   "id": "171217b5",
   "metadata": {},
   "source": [
    "## 2. Data Cleaning and preprocessing"
   ]
  },
  {
   "cell_type": "code",
   "execution_count": 453,
   "id": "8749e403",
   "metadata": {},
   "outputs": [],
   "source": [
    "# Correct data types\n",
    "# Convert dates and timestamps to datetime type\n",
    "users['subscription_date'] = pd.to_datetime(users['subscription_date'])\n",
    "users['unsubscription_date'] = pd.to_datetime(users['unsubscription_date'], errors='coerce')  # It can have null values\n",
    "transactions['transaction_timestamp'] = pd.to_datetime(transactions['transaction_timestamp']) "
   ]
  },
  {
   "cell_type": "code",
   "execution_count": 454,
   "id": "8ab402db",
   "metadata": {},
   "outputs": [
    {
     "data": {
      "text/plain": [
       "user_id                   0\n",
       "subscription_date         0\n",
       "phone_operator            0\n",
       "os_name                 206\n",
       "os_version              208\n",
       "affiliate                52\n",
       "unsubscription_date    7891\n",
       "service                   0\n",
       "aggregator                0\n",
       "dtype: int64"
      ]
     },
     "execution_count": 454,
     "metadata": {},
     "output_type": "execute_result"
    }
   ],
   "source": [
    "# Check missing values\n",
    "users.isnull().sum()"
   ]
  },
  {
   "cell_type": "code",
   "execution_count": 455,
   "id": "2da808cf",
   "metadata": {},
   "outputs": [
    {
     "data": {
      "text/html": [
       "<div>\n",
       "<style scoped>\n",
       "    .dataframe tbody tr th:only-of-type {\n",
       "        vertical-align: middle;\n",
       "    }\n",
       "\n",
       "    .dataframe tbody tr th {\n",
       "        vertical-align: top;\n",
       "    }\n",
       "\n",
       "    .dataframe thead th {\n",
       "        text-align: right;\n",
       "    }\n",
       "</style>\n",
       "<table border=\"1\" class=\"dataframe\">\n",
       "  <thead>\n",
       "    <tr style=\"text-align: right;\">\n",
       "      <th></th>\n",
       "      <th>user_id</th>\n",
       "      <th>subscription_date</th>\n",
       "      <th>phone_operator</th>\n",
       "      <th>os_name</th>\n",
       "      <th>os_version</th>\n",
       "      <th>affiliate</th>\n",
       "      <th>unsubscription_date</th>\n",
       "      <th>service</th>\n",
       "      <th>aggregator</th>\n",
       "    </tr>\n",
       "  </thead>\n",
       "  <tbody>\n",
       "    <tr>\n",
       "      <th>0</th>\n",
       "      <td>4b0625b0e19a11ec8a541fcc86ad2588</td>\n",
       "      <td>2022-06-01 11:03:06</td>\n",
       "      <td>C</td>\n",
       "      <td>NaN</td>\n",
       "      <td>NaN</td>\n",
       "      <td>aff_4</td>\n",
       "      <td>2022-06-01 12:23:34</td>\n",
       "      <td>ps</td>\n",
       "      <td>ABC</td>\n",
       "    </tr>\n",
       "    <tr>\n",
       "      <th>357</th>\n",
       "      <td>d4a36160e36211eca8957b6cb3999042</td>\n",
       "      <td>2022-06-03 17:30:33</td>\n",
       "      <td>C</td>\n",
       "      <td>NaN</td>\n",
       "      <td>NaN</td>\n",
       "      <td>aff_4</td>\n",
       "      <td>2022-06-17 10:33:52</td>\n",
       "      <td>ps</td>\n",
       "      <td>ABC</td>\n",
       "    </tr>\n",
       "    <tr>\n",
       "      <th>399</th>\n",
       "      <td>4305b7c0e1d311ecbaa51f9ae3f5945d</td>\n",
       "      <td>2022-06-01 17:51:54</td>\n",
       "      <td>B</td>\n",
       "      <td>NaN</td>\n",
       "      <td>NaN</td>\n",
       "      <td>aff_4</td>\n",
       "      <td>2022-06-01 18:06:16</td>\n",
       "      <td>gc</td>\n",
       "      <td>ABC</td>\n",
       "    </tr>\n",
       "    <tr>\n",
       "      <th>671</th>\n",
       "      <td>4a675420e28b11eca8957b6cb3999042</td>\n",
       "      <td>2022-06-02 15:48:09</td>\n",
       "      <td>A</td>\n",
       "      <td>NaN</td>\n",
       "      <td>NaN</td>\n",
       "      <td>aff_4</td>\n",
       "      <td>NaT</td>\n",
       "      <td>cl</td>\n",
       "      <td>ABC</td>\n",
       "    </tr>\n",
       "    <tr>\n",
       "      <th>993</th>\n",
       "      <td>8b62b020e1df11ec95703f2faa3b39a3</td>\n",
       "      <td>2022-06-01 19:18:28</td>\n",
       "      <td>C</td>\n",
       "      <td>NaN</td>\n",
       "      <td>NaN</td>\n",
       "      <td>aff_4</td>\n",
       "      <td>2022-06-01 19:19:14</td>\n",
       "      <td>ps</td>\n",
       "      <td>ABC</td>\n",
       "    </tr>\n",
       "    <tr>\n",
       "      <th>...</th>\n",
       "      <td>...</td>\n",
       "      <td>...</td>\n",
       "      <td>...</td>\n",
       "      <td>...</td>\n",
       "      <td>...</td>\n",
       "      <td>...</td>\n",
       "      <td>...</td>\n",
       "      <td>...</td>\n",
       "      <td>...</td>\n",
       "    </tr>\n",
       "    <tr>\n",
       "      <th>14495</th>\n",
       "      <td>8a3f3ee0f65011ec9707d58e12d566d8</td>\n",
       "      <td>2022-06-27 19:39:16</td>\n",
       "      <td>A</td>\n",
       "      <td>NaN</td>\n",
       "      <td>NaN</td>\n",
       "      <td>aff_3</td>\n",
       "      <td>NaT</td>\n",
       "      <td>gc</td>\n",
       "      <td>ABC</td>\n",
       "    </tr>\n",
       "    <tr>\n",
       "      <th>14580</th>\n",
       "      <td>62ef5ed0ecd011ecbc89495b27b9c9c5</td>\n",
       "      <td>2022-06-15 17:27:32</td>\n",
       "      <td>C</td>\n",
       "      <td>NaN</td>\n",
       "      <td>NaN</td>\n",
       "      <td>aff_2</td>\n",
       "      <td>NaT</td>\n",
       "      <td>tv</td>\n",
       "      <td>ABC</td>\n",
       "    </tr>\n",
       "    <tr>\n",
       "      <th>14633</th>\n",
       "      <td>70d247ddaf2145a7aa0b4140c3509b13</td>\n",
       "      <td>2022-06-18 18:05:10</td>\n",
       "      <td>C</td>\n",
       "      <td>NaN</td>\n",
       "      <td>NaN</td>\n",
       "      <td>aff_4</td>\n",
       "      <td>2022-06-18 18:06:55</td>\n",
       "      <td>ma</td>\n",
       "      <td>ABC</td>\n",
       "    </tr>\n",
       "    <tr>\n",
       "      <th>14738</th>\n",
       "      <td>286ab770f5de11ec98339db181f14dac</td>\n",
       "      <td>2022-06-27 05:59:45</td>\n",
       "      <td>A</td>\n",
       "      <td>NaN</td>\n",
       "      <td>NaN</td>\n",
       "      <td>aff_4</td>\n",
       "      <td>2022-06-27 07:08:23</td>\n",
       "      <td>ma</td>\n",
       "      <td>ABC</td>\n",
       "    </tr>\n",
       "    <tr>\n",
       "      <th>14796</th>\n",
       "      <td>50334280f66111ecb0ff599f6e244ab6</td>\n",
       "      <td>2022-06-27 21:39:27</td>\n",
       "      <td>B</td>\n",
       "      <td>NaN</td>\n",
       "      <td>NaN</td>\n",
       "      <td>aff_3</td>\n",
       "      <td>2022-06-27 21:41:14</td>\n",
       "      <td>gc</td>\n",
       "      <td>ABC</td>\n",
       "    </tr>\n",
       "  </tbody>\n",
       "</table>\n",
       "<p>208 rows × 9 columns</p>\n",
       "</div>"
      ],
      "text/plain": [
       "                                user_id   subscription_date phone_operator  \\\n",
       "0      4b0625b0e19a11ec8a541fcc86ad2588 2022-06-01 11:03:06              C   \n",
       "357    d4a36160e36211eca8957b6cb3999042 2022-06-03 17:30:33              C   \n",
       "399    4305b7c0e1d311ecbaa51f9ae3f5945d 2022-06-01 17:51:54              B   \n",
       "671    4a675420e28b11eca8957b6cb3999042 2022-06-02 15:48:09              A   \n",
       "993    8b62b020e1df11ec95703f2faa3b39a3 2022-06-01 19:18:28              C   \n",
       "...                                 ...                 ...            ...   \n",
       "14495  8a3f3ee0f65011ec9707d58e12d566d8 2022-06-27 19:39:16              A   \n",
       "14580  62ef5ed0ecd011ecbc89495b27b9c9c5 2022-06-15 17:27:32              C   \n",
       "14633  70d247ddaf2145a7aa0b4140c3509b13 2022-06-18 18:05:10              C   \n",
       "14738  286ab770f5de11ec98339db181f14dac 2022-06-27 05:59:45              A   \n",
       "14796  50334280f66111ecb0ff599f6e244ab6 2022-06-27 21:39:27              B   \n",
       "\n",
       "      os_name  os_version affiliate unsubscription_date service aggregator  \n",
       "0         NaN         NaN     aff_4 2022-06-01 12:23:34      ps        ABC  \n",
       "357       NaN         NaN     aff_4 2022-06-17 10:33:52      ps        ABC  \n",
       "399       NaN         NaN     aff_4 2022-06-01 18:06:16      gc        ABC  \n",
       "671       NaN         NaN     aff_4                 NaT      cl        ABC  \n",
       "993       NaN         NaN     aff_4 2022-06-01 19:19:14      ps        ABC  \n",
       "...       ...         ...       ...                 ...     ...        ...  \n",
       "14495     NaN         NaN     aff_3                 NaT      gc        ABC  \n",
       "14580     NaN         NaN     aff_2                 NaT      tv        ABC  \n",
       "14633     NaN         NaN     aff_4 2022-06-18 18:06:55      ma        ABC  \n",
       "14738     NaN         NaN     aff_4 2022-06-27 07:08:23      ma        ABC  \n",
       "14796     NaN         NaN     aff_3 2022-06-27 21:41:14      gc        ABC  \n",
       "\n",
       "[208 rows x 9 columns]"
      ]
     },
     "execution_count": 455,
     "metadata": {},
     "output_type": "execute_result"
    }
   ],
   "source": [
    "users[(users.os_version.isnull())]"
   ]
  },
  {
   "cell_type": "code",
   "execution_count": 456,
   "id": "8b80a89d",
   "metadata": {},
   "outputs": [
    {
     "data": {
      "text/html": [
       "<div>\n",
       "<style scoped>\n",
       "    .dataframe tbody tr th:only-of-type {\n",
       "        vertical-align: middle;\n",
       "    }\n",
       "\n",
       "    .dataframe tbody tr th {\n",
       "        vertical-align: top;\n",
       "    }\n",
       "\n",
       "    .dataframe thead th {\n",
       "        text-align: right;\n",
       "    }\n",
       "</style>\n",
       "<table border=\"1\" class=\"dataframe\">\n",
       "  <thead>\n",
       "    <tr style=\"text-align: right;\">\n",
       "      <th></th>\n",
       "      <th>user_id</th>\n",
       "      <th>transaction_timestamp</th>\n",
       "      <th>service</th>\n",
       "      <th>phone_operator</th>\n",
       "      <th>status</th>\n",
       "      <th>pricepoint</th>\n",
       "    </tr>\n",
       "  </thead>\n",
       "  <tbody>\n",
       "    <tr>\n",
       "      <th>0</th>\n",
       "      <td>ad54a2e0e16e11ec95703f2faa3b39a3</td>\n",
       "      <td>2022-06-01 05:50:48</td>\n",
       "      <td>ma</td>\n",
       "      <td>C</td>\n",
       "      <td>Failed</td>\n",
       "      <td>3.6</td>\n",
       "    </tr>\n",
       "    <tr>\n",
       "      <th>1</th>\n",
       "      <td>f0769510e19611ecb2988337303a8fef</td>\n",
       "      <td>2022-06-01 10:38:53</td>\n",
       "      <td>ps</td>\n",
       "      <td>A</td>\n",
       "      <td>Failed</td>\n",
       "      <td>3.6</td>\n",
       "    </tr>\n",
       "    <tr>\n",
       "      <th>2</th>\n",
       "      <td>3c7b02e0e1a911ec8a541fcc86ad2588</td>\n",
       "      <td>2022-06-01 12:50:41</td>\n",
       "      <td>cl</td>\n",
       "      <td>A</td>\n",
       "      <td>Failed</td>\n",
       "      <td>3.6</td>\n",
       "    </tr>\n",
       "    <tr>\n",
       "      <th>3</th>\n",
       "      <td>bf9b25f0e1e111ecbaa51f9ae3f5945d</td>\n",
       "      <td>2022-06-01 19:34:40</td>\n",
       "      <td>ma</td>\n",
       "      <td>A</td>\n",
       "      <td>Delivered</td>\n",
       "      <td>3.6</td>\n",
       "    </tr>\n",
       "    <tr>\n",
       "      <th>4</th>\n",
       "      <td>06d76e40e1fd11ec8a541fcc86ad2588</td>\n",
       "      <td>2022-06-01 22:49:27</td>\n",
       "      <td>tv</td>\n",
       "      <td>B</td>\n",
       "      <td>Failed</td>\n",
       "      <td>3.6</td>\n",
       "    </tr>\n",
       "    <tr>\n",
       "      <th>...</th>\n",
       "      <td>...</td>\n",
       "      <td>...</td>\n",
       "      <td>...</td>\n",
       "      <td>...</td>\n",
       "      <td>...</td>\n",
       "      <td>...</td>\n",
       "    </tr>\n",
       "    <tr>\n",
       "      <th>62872</th>\n",
       "      <td>42c8f150e1dd11ecb2988337303a8fef</td>\n",
       "      <td>2022-07-27 05:32:32</td>\n",
       "      <td>ma</td>\n",
       "      <td>C</td>\n",
       "      <td>Failed</td>\n",
       "      <td>3.6</td>\n",
       "    </tr>\n",
       "    <tr>\n",
       "      <th>62873</th>\n",
       "      <td>0b54db30ece111ecbc89495b27b9c9c5</td>\n",
       "      <td>2022-07-27 05:32:32</td>\n",
       "      <td>cl</td>\n",
       "      <td>C</td>\n",
       "      <td>Failed</td>\n",
       "      <td>3.6</td>\n",
       "    </tr>\n",
       "    <tr>\n",
       "      <th>62874</th>\n",
       "      <td>a3f3ea70f23611ec98339db181f14dac</td>\n",
       "      <td>2022-07-27 05:32:32</td>\n",
       "      <td>ps</td>\n",
       "      <td>C</td>\n",
       "      <td>Failed</td>\n",
       "      <td>3.6</td>\n",
       "    </tr>\n",
       "    <tr>\n",
       "      <th>62875</th>\n",
       "      <td>4087d2f0e71711ec9af991325ed16c0b</td>\n",
       "      <td>2022-07-27 05:34:32</td>\n",
       "      <td>ma</td>\n",
       "      <td>A</td>\n",
       "      <td>Failed</td>\n",
       "      <td>3.6</td>\n",
       "    </tr>\n",
       "    <tr>\n",
       "      <th>62876</th>\n",
       "      <td>3fcd1f00f7ed11ec867b553062cb5bf9</td>\n",
       "      <td>2022-07-27 05:34:32</td>\n",
       "      <td>ma</td>\n",
       "      <td>A</td>\n",
       "      <td>Failed</td>\n",
       "      <td>3.6</td>\n",
       "    </tr>\n",
       "  </tbody>\n",
       "</table>\n",
       "<p>62876 rows × 6 columns</p>\n",
       "</div>"
      ],
      "text/plain": [
       "                                user_id transaction_timestamp service  \\\n",
       "0      ad54a2e0e16e11ec95703f2faa3b39a3   2022-06-01 05:50:48      ma   \n",
       "1      f0769510e19611ecb2988337303a8fef   2022-06-01 10:38:53      ps   \n",
       "2      3c7b02e0e1a911ec8a541fcc86ad2588   2022-06-01 12:50:41      cl   \n",
       "3      bf9b25f0e1e111ecbaa51f9ae3f5945d   2022-06-01 19:34:40      ma   \n",
       "4      06d76e40e1fd11ec8a541fcc86ad2588   2022-06-01 22:49:27      tv   \n",
       "...                                 ...                   ...     ...   \n",
       "62872  42c8f150e1dd11ecb2988337303a8fef   2022-07-27 05:32:32      ma   \n",
       "62873  0b54db30ece111ecbc89495b27b9c9c5   2022-07-27 05:32:32      cl   \n",
       "62874  a3f3ea70f23611ec98339db181f14dac   2022-07-27 05:32:32      ps   \n",
       "62875  4087d2f0e71711ec9af991325ed16c0b   2022-07-27 05:34:32      ma   \n",
       "62876  3fcd1f00f7ed11ec867b553062cb5bf9   2022-07-27 05:34:32      ma   \n",
       "\n",
       "      phone_operator     status  pricepoint  \n",
       "0                  C     Failed         3.6  \n",
       "1                  A     Failed         3.6  \n",
       "2                  A     Failed         3.6  \n",
       "3                  A  Delivered         3.6  \n",
       "4                  B     Failed         3.6  \n",
       "...              ...        ...         ...  \n",
       "62872              C     Failed         3.6  \n",
       "62873              C     Failed         3.6  \n",
       "62874              C     Failed         3.6  \n",
       "62875              A     Failed         3.6  \n",
       "62876              A     Failed         3.6  \n",
       "\n",
       "[62876 rows x 6 columns]"
      ]
     },
     "execution_count": 456,
     "metadata": {},
     "output_type": "execute_result"
    }
   ],
   "source": [
    "transactions[~transactions.status.isnull()]"
   ]
  },
  {
   "cell_type": "markdown",
   "id": "6bdafcab",
   "metadata": {},
   "source": [
    "Missing values part from whole dataset is small and there is no need to handle (replace) them for descriptive analysis."
   ]
  },
  {
   "cell_type": "code",
   "execution_count": 457,
   "id": "6cfe6fcf",
   "metadata": {},
   "outputs": [],
   "source": [
    "# Outlier Detection for numerical variable ranges\n",
    "\n",
    "# Calculate IQR\n",
    "Q1 = transactions['pricepoint'].quantile(0.25)\n",
    "Q3 = transactions['pricepoint'].quantile(0.75)\n",
    "IQR = Q3 - Q1\n",
    "\n",
    "lower_bound = Q1 - 1.5 * IQR\n",
    "upper_bound = Q3 + 1.5 * IQR\n",
    "\n",
    "# Filter out upper outliers\n",
    "filtered_transactions = transactions[(transactions['pricepoint'] >= lower_bound) & (transactions['pricepoint'] <= upper_bound)]"
   ]
  },
  {
   "cell_type": "code",
   "execution_count": 458,
   "id": "32513d99",
   "metadata": {},
   "outputs": [
    {
     "data": {
      "text/plain": [
       "(3.6, 3.6, 3.6, 3.6)"
      ]
     },
     "execution_count": 458,
     "metadata": {},
     "output_type": "execute_result"
    }
   ],
   "source": [
    "Q1,Q3,lower_bound, upper_bound"
   ]
  },
  {
   "cell_type": "code",
   "execution_count": 459,
   "id": "4b8d7e75",
   "metadata": {},
   "outputs": [
    {
     "data": {
      "text/plain": [
       "3.6        62876\n",
       "12345.6        1\n",
       "Name: pricepoint, dtype: int64"
      ]
     },
     "execution_count": 459,
     "metadata": {},
     "output_type": "execute_result"
    }
   ],
   "source": [
    "transactions.pricepoint.value_counts()"
   ]
  },
  {
   "cell_type": "markdown",
   "id": "cf233acb",
   "metadata": {},
   "source": [
    "It appeared that all values are the same, I assume this is a base price for a service."
   ]
  },
  {
   "cell_type": "markdown",
   "id": "a23f59eb",
   "metadata": {},
   "source": [
    "One extreme outlier is 12345.6. It requires clarification but I assume for this analysis that this value is most likely incorrect. There is an option to remove it or replace with 'base' price to keep the transaction other info."
   ]
  },
  {
   "cell_type": "code",
   "execution_count": 460,
   "id": "9520c547",
   "metadata": {},
   "outputs": [],
   "source": [
    "# replace outlier with common value\n",
    "transactions['pricepoint'] = transactions['pricepoint'].replace(62876, 3.6)"
   ]
  },
  {
   "cell_type": "code",
   "execution_count": 461,
   "id": "3325ad2b",
   "metadata": {},
   "outputs": [],
   "source": [
    "# Duplicates check in users and transactions"
   ]
  },
  {
   "cell_type": "code",
   "execution_count": 462,
   "id": "0e5a9012",
   "metadata": {},
   "outputs": [
    {
     "data": {
      "text/plain": [
       "0"
      ]
     },
     "execution_count": 462,
     "metadata": {},
     "output_type": "execute_result"
    }
   ],
   "source": [
    "users.user_id.duplicated().sum()"
   ]
  },
  {
   "cell_type": "code",
   "execution_count": 463,
   "id": "4cb8492f",
   "metadata": {},
   "outputs": [
    {
     "data": {
      "text/html": [
       "<div>\n",
       "<style scoped>\n",
       "    .dataframe tbody tr th:only-of-type {\n",
       "        vertical-align: middle;\n",
       "    }\n",
       "\n",
       "    .dataframe tbody tr th {\n",
       "        vertical-align: top;\n",
       "    }\n",
       "\n",
       "    .dataframe thead th {\n",
       "        text-align: right;\n",
       "    }\n",
       "</style>\n",
       "<table border=\"1\" class=\"dataframe\">\n",
       "  <thead>\n",
       "    <tr style=\"text-align: right;\">\n",
       "      <th></th>\n",
       "      <th>user_id</th>\n",
       "      <th>transaction_timestamp</th>\n",
       "      <th>service</th>\n",
       "      <th>phone_operator</th>\n",
       "      <th>status</th>\n",
       "      <th>pricepoint</th>\n",
       "    </tr>\n",
       "  </thead>\n",
       "  <tbody>\n",
       "    <tr>\n",
       "      <th>22522</th>\n",
       "      <td>24dc7e10ee7f11ec989b6b01af70e4c0</td>\n",
       "      <td>2022-06-24 05:16:32</td>\n",
       "      <td>ma</td>\n",
       "      <td>B</td>\n",
       "      <td>Failed</td>\n",
       "      <td>3.6</td>\n",
       "    </tr>\n",
       "    <tr>\n",
       "      <th>22523</th>\n",
       "      <td>24dc7e10ee7f11ec989b6b01af70e4c0</td>\n",
       "      <td>2022-06-24 05:16:32</td>\n",
       "      <td>ma</td>\n",
       "      <td>B</td>\n",
       "      <td>Failed</td>\n",
       "      <td>3.6</td>\n",
       "    </tr>\n",
       "    <tr>\n",
       "      <th>34339</th>\n",
       "      <td>24dc7e10ee7f11ec989b6b01af70e4c0</td>\n",
       "      <td>2022-07-01 05:16:32</td>\n",
       "      <td>ma</td>\n",
       "      <td>B</td>\n",
       "      <td>Failed</td>\n",
       "      <td>3.6</td>\n",
       "    </tr>\n",
       "    <tr>\n",
       "      <th>34340</th>\n",
       "      <td>24dc7e10ee7f11ec989b6b01af70e4c0</td>\n",
       "      <td>2022-07-01 05:16:32</td>\n",
       "      <td>ma</td>\n",
       "      <td>B</td>\n",
       "      <td>Failed</td>\n",
       "      <td>3.6</td>\n",
       "    </tr>\n",
       "    <tr>\n",
       "      <th>40873</th>\n",
       "      <td>24dc7e10ee7f11ec989b6b01af70e4c0</td>\n",
       "      <td>2022-07-08 05:31:32</td>\n",
       "      <td>ma</td>\n",
       "      <td>B</td>\n",
       "      <td>Failed</td>\n",
       "      <td>3.6</td>\n",
       "    </tr>\n",
       "    <tr>\n",
       "      <th>40874</th>\n",
       "      <td>24dc7e10ee7f11ec989b6b01af70e4c0</td>\n",
       "      <td>2022-07-08 05:31:32</td>\n",
       "      <td>ma</td>\n",
       "      <td>B</td>\n",
       "      <td>Failed</td>\n",
       "      <td>3.6</td>\n",
       "    </tr>\n",
       "    <tr>\n",
       "      <th>53111</th>\n",
       "      <td>24dc7e10ee7f11ec989b6b01af70e4c0</td>\n",
       "      <td>2022-07-15 05:31:31</td>\n",
       "      <td>ma</td>\n",
       "      <td>B</td>\n",
       "      <td>Failed</td>\n",
       "      <td>3.6</td>\n",
       "    </tr>\n",
       "    <tr>\n",
       "      <th>53112</th>\n",
       "      <td>24dc7e10ee7f11ec989b6b01af70e4c0</td>\n",
       "      <td>2022-07-15 05:31:31</td>\n",
       "      <td>ma</td>\n",
       "      <td>B</td>\n",
       "      <td>Failed</td>\n",
       "      <td>3.6</td>\n",
       "    </tr>\n",
       "    <tr>\n",
       "      <th>61025</th>\n",
       "      <td>24dc7e10ee7f11ec989b6b01af70e4c0</td>\n",
       "      <td>2022-07-22 05:31:32</td>\n",
       "      <td>ma</td>\n",
       "      <td>B</td>\n",
       "      <td>Failed</td>\n",
       "      <td>3.6</td>\n",
       "    </tr>\n",
       "    <tr>\n",
       "      <th>61027</th>\n",
       "      <td>24dc7e10ee7f11ec989b6b01af70e4c0</td>\n",
       "      <td>2022-07-22 05:31:32</td>\n",
       "      <td>ma</td>\n",
       "      <td>B</td>\n",
       "      <td>Failed</td>\n",
       "      <td>3.6</td>\n",
       "    </tr>\n",
       "  </tbody>\n",
       "</table>\n",
       "</div>"
      ],
      "text/plain": [
       "                                user_id transaction_timestamp service  \\\n",
       "22522  24dc7e10ee7f11ec989b6b01af70e4c0   2022-06-24 05:16:32      ma   \n",
       "22523  24dc7e10ee7f11ec989b6b01af70e4c0   2022-06-24 05:16:32      ma   \n",
       "34339  24dc7e10ee7f11ec989b6b01af70e4c0   2022-07-01 05:16:32      ma   \n",
       "34340  24dc7e10ee7f11ec989b6b01af70e4c0   2022-07-01 05:16:32      ma   \n",
       "40873  24dc7e10ee7f11ec989b6b01af70e4c0   2022-07-08 05:31:32      ma   \n",
       "40874  24dc7e10ee7f11ec989b6b01af70e4c0   2022-07-08 05:31:32      ma   \n",
       "53111  24dc7e10ee7f11ec989b6b01af70e4c0   2022-07-15 05:31:31      ma   \n",
       "53112  24dc7e10ee7f11ec989b6b01af70e4c0   2022-07-15 05:31:31      ma   \n",
       "61025  24dc7e10ee7f11ec989b6b01af70e4c0   2022-07-22 05:31:32      ma   \n",
       "61027  24dc7e10ee7f11ec989b6b01af70e4c0   2022-07-22 05:31:32      ma   \n",
       "\n",
       "      phone_operator  status  pricepoint  \n",
       "22522              B  Failed         3.6  \n",
       "22523              B  Failed         3.6  \n",
       "34339              B  Failed         3.6  \n",
       "34340              B  Failed         3.6  \n",
       "40873              B  Failed         3.6  \n",
       "40874              B  Failed         3.6  \n",
       "53111              B  Failed         3.6  \n",
       "53112              B  Failed         3.6  \n",
       "61025              B  Failed         3.6  \n",
       "61027              B  Failed         3.6  "
      ]
     },
     "execution_count": 463,
     "metadata": {},
     "output_type": "execute_result"
    }
   ],
   "source": [
    "transactions[transactions.duplicated(subset=['user_id', 'transaction_timestamp'], keep=False)]"
   ]
  },
  {
   "cell_type": "markdown",
   "id": "f926684b",
   "metadata": {},
   "source": [
    "Some transactions are duplicated in the dataset, it it needed to remove them for further analysis."
   ]
  },
  {
   "cell_type": "code",
   "execution_count": 464,
   "id": "2c16d6c4",
   "metadata": {},
   "outputs": [],
   "source": [
    "transactions.drop_duplicates(subset=['user_id', 'transaction_timestamp'], inplace = True)"
   ]
  },
  {
   "cell_type": "markdown",
   "id": "fd8201ce",
   "metadata": {},
   "source": [
    "## 3. Analysis "
   ]
  },
  {
   "cell_type": "markdown",
   "id": "3b407fcb",
   "metadata": {},
   "source": [
    "### User data"
   ]
  },
  {
   "cell_type": "code",
   "execution_count": 465,
   "id": "99543f83",
   "metadata": {},
   "outputs": [],
   "source": [
    "# Show counts of subscribed and unsubsribed users \n",
    "subscribed = users['unsubscription_date'].isna().sum()\n",
    "unsubscribed = len(users) - subscribed"
   ]
  },
  {
   "cell_type": "code",
   "execution_count": 466,
   "id": "2d51834d",
   "metadata": {},
   "outputs": [
    {
     "data": {
      "text/plain": [
       "(7891, 6934)"
      ]
     },
     "execution_count": 466,
     "metadata": {},
     "output_type": "execute_result"
    }
   ],
   "source": [
    "subscribed, unsubscribed"
   ]
  },
  {
   "cell_type": "markdown",
   "id": "9b8a047e",
   "metadata": {},
   "source": [
    "### How many subscribed and unsubscribed users are in the given time range?"
   ]
  },
  {
   "cell_type": "code",
   "execution_count": 467,
   "id": "1eca3cef",
   "metadata": {},
   "outputs": [
    {
     "data": {
      "image/png": "[encoded data removed]",
      "text/plain": [
       "<Figure size 864x432 with 1 Axes>"
      ]
     },
     "metadata": {
      "needs_background": "light"
     },
     "output_type": "display_data"
    }
   ],
   "source": [
    "# Subcribed and unsubsribed users over time\n",
    "# Extract just the date part\n",
    "users['subscription_date_part'] = users['subscription_date'].dt.date\n",
    "users['unsubscription_date_part'] = users['unsubscription_date'].dt.date\n",
    "\n",
    "# Count number of subscriptions and unsubscriptions by day\n",
    "subscriptions_daily = users.groupby('subscription_date_part').size()\n",
    "unsubscriptions_daily = users.groupby('unsubscription_date_part').size()\n",
    "\n",
    "plt.figure(figsize=(12, 6))\n",
    "subscriptions_daily.plot(kind='line', color='blue', marker='o', label='Subscriptions')\n",
    "unsubscriptions_daily.plot(kind='line', color='red', marker='o', label='Unsubscriptions')\n",
    "\n",
    "start, end = users['subscription_date'].min().date(), users['unsubscription_date'].max().date()\n",
    "date_range = pd.date_range(start=start, end=end, freq='7D')\n",
    "plt.xticks(date_range, [d.strftime('%Y-%m-%d') for d in date_range], rotation=45)\n",
    "plt.title('New subscriptions and unsubscriptions over time')\n",
    "plt.xlabel('Date')\n",
    "plt.ylabel('Number of users')\n",
    "plt.grid(True)\n",
    "plt.legend()\n",
    "plt.tight_layout()\n",
    "plt.show()"
   ]
  },
  {
   "cell_type": "markdown",
   "id": "8eb6f782",
   "metadata": {},
   "source": [
    "Some users who subscribed in June canceled sunscription in July."
   ]
  },
  {
   "cell_type": "code",
   "execution_count": 468,
   "id": "129acef5",
   "metadata": {},
   "outputs": [],
   "source": [
    "subscribed_users = users[users.unsubscription_date.isna()==True]"
   ]
  },
  {
   "cell_type": "code",
   "execution_count": 469,
   "id": "0fb72ed1",
   "metadata": {},
   "outputs": [
    {
     "data": {
      "text/html": [
       "<div>\n",
       "<style scoped>\n",
       "    .dataframe tbody tr th:only-of-type {\n",
       "        vertical-align: middle;\n",
       "    }\n",
       "\n",
       "    .dataframe tbody tr th {\n",
       "        vertical-align: top;\n",
       "    }\n",
       "\n",
       "    .dataframe thead th {\n",
       "        text-align: right;\n",
       "    }\n",
       "</style>\n",
       "<table border=\"1\" class=\"dataframe\">\n",
       "  <thead>\n",
       "    <tr style=\"text-align: right;\">\n",
       "      <th></th>\n",
       "      <th>user_id</th>\n",
       "      <th>subscription_date</th>\n",
       "      <th>phone_operator</th>\n",
       "      <th>os_name</th>\n",
       "      <th>os_version</th>\n",
       "      <th>affiliate</th>\n",
       "      <th>unsubscription_date</th>\n",
       "      <th>service</th>\n",
       "      <th>aggregator</th>\n",
       "      <th>subscription_date_part</th>\n",
       "      <th>unsubscription_date_part</th>\n",
       "    </tr>\n",
       "  </thead>\n",
       "  <tbody>\n",
       "    <tr>\n",
       "      <th>1</th>\n",
       "      <td>4058b340e19e11ec95703f2faa3b39a3</td>\n",
       "      <td>2022-06-01 11:32:06</td>\n",
       "      <td>B</td>\n",
       "      <td>Android</td>\n",
       "      <td>8.0</td>\n",
       "      <td>aff_4</td>\n",
       "      <td>NaT</td>\n",
       "      <td>gc</td>\n",
       "      <td>ABC</td>\n",
       "      <td>2022-06-01</td>\n",
       "      <td>NaT</td>\n",
       "    </tr>\n",
       "    <tr>\n",
       "      <th>2</th>\n",
       "      <td>a0b80170e1b011ec8a541fcc86ad2588</td>\n",
       "      <td>2022-06-01 13:42:29</td>\n",
       "      <td>C</td>\n",
       "      <td>Android</td>\n",
       "      <td>9.0</td>\n",
       "      <td>aff_4</td>\n",
       "      <td>NaT</td>\n",
       "      <td>ma</td>\n",
       "      <td>ABC</td>\n",
       "      <td>2022-06-01</td>\n",
       "      <td>NaT</td>\n",
       "    </tr>\n",
       "    <tr>\n",
       "      <th>4</th>\n",
       "      <td>ee930990e1fa11ecb2988337303a8fef</td>\n",
       "      <td>2022-06-01 22:35:02</td>\n",
       "      <td>C</td>\n",
       "      <td>Android</td>\n",
       "      <td>6.0</td>\n",
       "      <td>aff_4</td>\n",
       "      <td>NaT</td>\n",
       "      <td>ma</td>\n",
       "      <td>ABC</td>\n",
       "      <td>2022-06-01</td>\n",
       "      <td>NaT</td>\n",
       "    </tr>\n",
       "    <tr>\n",
       "      <th>6</th>\n",
       "      <td>86fa07f0e26511ecb4346f30d03a03b3</td>\n",
       "      <td>2022-06-02 11:19:03</td>\n",
       "      <td>C</td>\n",
       "      <td>Android</td>\n",
       "      <td>11.0</td>\n",
       "      <td>aff_4</td>\n",
       "      <td>NaT</td>\n",
       "      <td>ma</td>\n",
       "      <td>ABC</td>\n",
       "      <td>2022-06-02</td>\n",
       "      <td>NaT</td>\n",
       "    </tr>\n",
       "    <tr>\n",
       "      <th>8</th>\n",
       "      <td>385eb670e2b211ecaa7033b4a0ee0e67</td>\n",
       "      <td>2022-06-02 20:26:29</td>\n",
       "      <td>C</td>\n",
       "      <td>iOS</td>\n",
       "      <td>15.0</td>\n",
       "      <td>aff_4</td>\n",
       "      <td>NaT</td>\n",
       "      <td>ma</td>\n",
       "      <td>ABC</td>\n",
       "      <td>2022-06-02</td>\n",
       "      <td>NaT</td>\n",
       "    </tr>\n",
       "  </tbody>\n",
       "</table>\n",
       "</div>"
      ],
      "text/plain": [
       "                            user_id   subscription_date phone_operator  \\\n",
       "1  4058b340e19e11ec95703f2faa3b39a3 2022-06-01 11:32:06              B   \n",
       "2  a0b80170e1b011ec8a541fcc86ad2588 2022-06-01 13:42:29              C   \n",
       "4  ee930990e1fa11ecb2988337303a8fef 2022-06-01 22:35:02              C   \n",
       "6  86fa07f0e26511ecb4346f30d03a03b3 2022-06-02 11:19:03              C   \n",
       "8  385eb670e2b211ecaa7033b4a0ee0e67 2022-06-02 20:26:29              C   \n",
       "\n",
       "   os_name  os_version affiliate unsubscription_date service aggregator  \\\n",
       "1  Android         8.0     aff_4                 NaT      gc        ABC   \n",
       "2  Android         9.0     aff_4                 NaT      ma        ABC   \n",
       "4  Android         6.0     aff_4                 NaT      ma        ABC   \n",
       "6  Android        11.0     aff_4                 NaT      ma        ABC   \n",
       "8      iOS        15.0     aff_4                 NaT      ma        ABC   \n",
       "\n",
       "  subscription_date_part unsubscription_date_part  \n",
       "1             2022-06-01                      NaT  \n",
       "2             2022-06-01                      NaT  \n",
       "4             2022-06-01                      NaT  \n",
       "6             2022-06-02                      NaT  \n",
       "8             2022-06-02                      NaT  "
      ]
     },
     "execution_count": 469,
     "metadata": {},
     "output_type": "execute_result"
    }
   ],
   "source": [
    "subscribed_users.head()"
   ]
  },
  {
   "cell_type": "code",
   "execution_count": 470,
   "id": "b5ac8a71",
   "metadata": {},
   "outputs": [
    {
     "name": "stdout",
     "output_type": "stream",
     "text": [
      "Average daily subscriptions in June: 511.0 \n",
      "Average daily unsubscriptions in June: 193.0 \n"
     ]
    }
   ],
   "source": [
    "# Average subscriptions per day\n",
    "avg_subscriptions = subscriptions_daily.mean().round()\n",
    "unsubscriptions_daily.index = pd.to_datetime(unsubscriptions_daily.index)\n",
    "\n",
    "# Average subscriptions per day for the same month as subscriptions\n",
    "filtered_unsubscriptions = unsubscriptions_daily[unsubscriptions_daily.index < '2022-07-01']\n",
    "avg_unsubscriptions = filtered_unsubscriptions.mean().round()\n",
    "print(f\"Average daily subscriptions in June: {avg_subscriptions} \")\n",
    "print(f\"Average daily unsubscriptions in June: {avg_unsubscriptions} \")"
   ]
  },
  {
   "cell_type": "markdown",
   "id": "8c32d932",
   "metadata": {},
   "source": [
    "### How many active users (who are subscribed) are on a selected day?"
   ]
  },
  {
   "cell_type": "code",
   "execution_count": 471,
   "id": "327f0acb",
   "metadata": {},
   "outputs": [
    {
     "data": {
      "image/png": "[encoded data removed]",
      "text/plain": [
       "<Figure size 864x432 with 1 Axes>"
      ]
     },
     "metadata": {
      "needs_background": "light"
     },
     "output_type": "display_data"
    }
   ],
   "source": [
    "# Calculate cumulative active users (subscribed - unsubscribed)\n",
    "\n",
    "df_active_users = pd.DataFrame(\n",
    "    index=pd.date_range(start=users['subscription_date_part'].min(), \n",
    "     end=users.dropna(subset=['unsubscription_date_part']).unsubscription_date_part.max()))\n",
    "\n",
    "# Counting the number of subscriptions and unsubscriptions each day\n",
    "subscriptions_daily = users.groupby('subscription_date_part').size().cumsum()\n",
    "unsubscriptions_daily = users.groupby('unsubscription_date_part').size().cumsum()\n",
    "\n",
    "df_active_users['Subscriptions'] = subscriptions_daily\n",
    "df_active_users['Unsubscriptions'] = unsubscriptions_daily\n",
    "\n",
    "# Fill NaN values with the previous value for cumulative calculations\n",
    "df_active_users.ffill(inplace=True)\n",
    "\n",
    "# Make index as a column for labelling x axes\n",
    "df_active_users['Active users'] = df_active_users['Subscriptions'] - df_active_users['Unsubscriptions']\n",
    "df_active_users= df_active_users.reset_index().rename(columns={'index': 'activity_date'})\n",
    "\n",
    "plt.figure(figsize=(12, 6))\n",
    "plt.plot(df_active_users['activity_date'], df_active_users['Active users'], color='purple', marker='o')\n",
    "plt.title('Active subscribed users over time (cumulative)')\n",
    "plt.xlabel('Date')\n",
    "plt.ylabel('Number of active users')\n",
    "plt.xticks(date_range, [d.strftime('%Y-%m-%d') for d in date_range], rotation=45)\n",
    "plt.grid(True)\n",
    "plt.tight_layout()\n",
    "plt.show()"
   ]
  },
  {
   "cell_type": "code",
   "execution_count": 472,
   "id": "29f5534e",
   "metadata": {},
   "outputs": [
    {
     "data": {
      "text/plain": [
       "9099.0"
      ]
     },
     "execution_count": 472,
     "metadata": {},
     "output_type": "execute_result"
    }
   ],
   "source": [
    "# Maximum number of active users in June\n",
    "df_active_users['Active users'].max()"
   ]
  },
  {
   "cell_type": "markdown",
   "id": "ba496cbd",
   "metadata": {},
   "source": [
    "### How much time does the subscription last?"
   ]
  },
  {
   "cell_type": "code",
   "execution_count": 473,
   "id": "b2b12e01",
   "metadata": {},
   "outputs": [
    {
     "data": {
      "image/png": "[encoded data removed]",
      "text/plain": [
       "<Figure size 432x288 with 1 Axes>"
      ]
     },
     "metadata": {
      "needs_background": "light"
     },
     "output_type": "display_data"
    }
   ],
   "source": [
    "# Subscription Duration\n",
    "users['subscription_duration'] = (users['unsubscription_date'] - users['subscription_date']).dt.days\n",
    "users['subscription_duration_hours'] = (users['unsubscription_date'] - users['subscription_date']).dt.total_seconds() / 3600\n",
    "\n",
    "sns.histplot(users['subscription_duration'].dropna(), bins=50, kde=True)\n",
    "plt.yscale('log')  \n",
    "plt.title('Subscription Duration Distribution')\n",
    "plt.xlabel('Duration (Days)')\n",
    "plt.ylabel('Number of Users (log scale)')\n",
    "plt.show()"
   ]
  },
  {
   "cell_type": "code",
   "execution_count": 474,
   "id": "7c8751b8",
   "metadata": {},
   "outputs": [
    {
     "name": "stdout",
     "output_type": "stream",
     "text": [
      "25th percentile of subscription duration: 0.03 hours\n",
      "50th percentile of subscription duration: 0.09 hours\n",
      "75th percentile of subscription duration: 320.88 hours\n",
      "98th percentile of subscription duration: 844.55 hours\n"
     ]
    }
   ],
   "source": [
    "# Show percentiles and median in subscription duration hours\n",
    "percentiles = [25, 50, 75, 98]\n",
    "for p in percentiles:\n",
    "    percentile_value_hours = users['subscription_duration_hours'].dropna().quantile(p / 100).round(2)\n",
    "    print(f\"{p}th percentile of subscription duration: {percentile_value_hours} hours\")"
   ]
  },
  {
   "cell_type": "code",
   "execution_count": 492,
   "id": "4649688b",
   "metadata": {},
   "outputs": [
    {
     "data": {
      "image/png": "[encoded data removed]",
      "text/plain": [
       "<Figure size 432x288 with 1 Axes>"
      ]
     },
     "metadata": {
      "needs_background": "light"
     },
     "output_type": "display_data"
    }
   ],
   "source": [
    "# Additional boxplot to see these values\n",
    "sns.boxplot(x=users['subscription_duration'].dropna())\n",
    "plt.title('Distribution of subscription duration')\n",
    "plt.show()"
   ]
  },
  {
   "cell_type": "markdown",
   "id": "c863e508",
   "metadata": {},
   "source": [
    "### What OS do users use?"
   ]
  },
  {
   "cell_type": "code",
   "execution_count": 476,
   "id": "93bba2dd",
   "metadata": {},
   "outputs": [
    {
     "data": {
      "image/png": "[encoded data removed]",
      "text/plain": [
       "<Figure size 432x288 with 1 Axes>"
      ]
     },
     "metadata": {
      "needs_background": "light"
     },
     "output_type": "display_data"
    }
   ],
   "source": [
    "# OS Name distribution\n",
    "sns.countplot(x='os_name', data=users)\n",
    "plt.title('Distribution of OS Names')\n",
    "plt.show()"
   ]
  },
  {
   "cell_type": "code",
   "execution_count": 477,
   "id": "de411a97",
   "metadata": {},
   "outputs": [
    {
     "data": {
      "text/plain": [
       "Android          72.0\n",
       "iOS              28.0\n",
       "HarmonyOS         0.0\n",
       "iPadOS            0.0\n",
       "Windows Phone     0.0\n",
       "OS X              0.0\n",
       "Name: os_name, dtype: float64"
      ]
     },
     "execution_count": 477,
     "metadata": {},
     "output_type": "execute_result"
    }
   ],
   "source": [
    "# Show percentage of each category\n",
    "(users.os_name.value_counts(normalize=True) * 100).round()"
   ]
  },
  {
   "cell_type": "code",
   "execution_count": 478,
   "id": "6eb61892",
   "metadata": {},
   "outputs": [
    {
     "data": {
      "text/html": [
       "<div>\n",
       "<style scoped>\n",
       "    .dataframe tbody tr th:only-of-type {\n",
       "        vertical-align: middle;\n",
       "    }\n",
       "\n",
       "    .dataframe tbody tr th {\n",
       "        vertical-align: top;\n",
       "    }\n",
       "\n",
       "    .dataframe thead th {\n",
       "        text-align: right;\n",
       "    }\n",
       "</style>\n",
       "<table border=\"1\" class=\"dataframe\">\n",
       "  <thead>\n",
       "    <tr style=\"text-align: right;\">\n",
       "      <th></th>\n",
       "      <th>os_name</th>\n",
       "      <th>os_version</th>\n",
       "      <th>user_count</th>\n",
       "    </tr>\n",
       "  </thead>\n",
       "  <tbody>\n",
       "    <tr>\n",
       "      <th>12</th>\n",
       "      <td>Android</td>\n",
       "      <td>11.0</td>\n",
       "      <td>3534</td>\n",
       "    </tr>\n",
       "    <tr>\n",
       "      <th>11</th>\n",
       "      <td>Android</td>\n",
       "      <td>10.0</td>\n",
       "      <td>3065</td>\n",
       "    </tr>\n",
       "    <tr>\n",
       "      <th>46</th>\n",
       "      <td>iOS</td>\n",
       "      <td>15.5</td>\n",
       "      <td>2597</td>\n",
       "    </tr>\n",
       "    <tr>\n",
       "      <th>13</th>\n",
       "      <td>Android</td>\n",
       "      <td>12.0</td>\n",
       "      <td>1685</td>\n",
       "    </tr>\n",
       "    <tr>\n",
       "      <th>10</th>\n",
       "      <td>Android</td>\n",
       "      <td>9.0</td>\n",
       "      <td>1109</td>\n",
       "    </tr>\n",
       "    <tr>\n",
       "      <th>45</th>\n",
       "      <td>iOS</td>\n",
       "      <td>15.4</td>\n",
       "      <td>568</td>\n",
       "    </tr>\n",
       "    <tr>\n",
       "      <th>8</th>\n",
       "      <td>Android</td>\n",
       "      <td>8.0</td>\n",
       "      <td>341</td>\n",
       "    </tr>\n",
       "    <tr>\n",
       "      <th>9</th>\n",
       "      <td>Android</td>\n",
       "      <td>8.1</td>\n",
       "      <td>277</td>\n",
       "    </tr>\n",
       "    <tr>\n",
       "      <th>40</th>\n",
       "      <td>iOS</td>\n",
       "      <td>14.8</td>\n",
       "      <td>203</td>\n",
       "    </tr>\n",
       "    <tr>\n",
       "      <th>24</th>\n",
       "      <td>iOS</td>\n",
       "      <td>12.5</td>\n",
       "      <td>137</td>\n",
       "    </tr>\n",
       "  </tbody>\n",
       "</table>\n",
       "</div>"
      ],
      "text/plain": [
       "    os_name  os_version  user_count\n",
       "12  Android        11.0        3534\n",
       "11  Android        10.0        3065\n",
       "46      iOS        15.5        2597\n",
       "13  Android        12.0        1685\n",
       "10  Android         9.0        1109\n",
       "45      iOS        15.4         568\n",
       "8   Android         8.0         341\n",
       "9   Android         8.1         277\n",
       "40      iOS        14.8         203\n",
       "24      iOS        12.5         137"
      ]
     },
     "execution_count": 478,
     "metadata": {},
     "output_type": "execute_result"
    }
   ],
   "source": [
    "# OS name and version\n",
    "# Grouping by os_name and os_version, then counting users\n",
    "grouped_users = users.groupby(['os_name', 'os_version']).size().reset_index(name='user_count')\n",
    "sorted_grouped_users = grouped_users.sort_values(by='user_count', ascending=False)\n",
    "\n",
    "# Top 10 OS with versions\n",
    "sorted_grouped_users.head(10)"
   ]
  },
  {
   "cell_type": "markdown",
   "id": "f97ef466",
   "metadata": {},
   "source": [
    "### What is the most popular phone operator?"
   ]
  },
  {
   "cell_type": "code",
   "execution_count": 479,
   "id": "db14977c",
   "metadata": {},
   "outputs": [
    {
     "data": {
      "image/png": "[encoded data removed]",
      "text/plain": [
       "<Figure size 432x288 with 1 Axes>"
      ]
     },
     "metadata": {
      "needs_background": "light"
     },
     "output_type": "display_data"
    }
   ],
   "source": [
    "# Phone operator distribution\n",
    "sns.countplot(x='phone_operator', data=users)\n",
    "plt.title('Distribution of Phone Operators')\n",
    "plt.show()"
   ]
  },
  {
   "cell_type": "code",
   "execution_count": 480,
   "id": "3a76a8b4",
   "metadata": {},
   "outputs": [
    {
     "data": {
      "text/plain": [
       "C    36.0\n",
       "B    34.0\n",
       "A    30.0\n",
       "Name: phone_operator, dtype: float64"
      ]
     },
     "execution_count": 480,
     "metadata": {},
     "output_type": "execute_result"
    }
   ],
   "source": [
    "# Show percentage of each category\n",
    "(users.phone_operator.value_counts(normalize=True) * 100).round()"
   ]
  },
  {
   "cell_type": "markdown",
   "id": "ec6e18d5",
   "metadata": {},
   "source": [
    "### What is the most popular service?"
   ]
  },
  {
   "cell_type": "code",
   "execution_count": 481,
   "id": "e1d54c91",
   "metadata": {},
   "outputs": [
    {
     "data": {
      "image/png": "[encoded data removed]",
      "text/plain": [
       "<Figure size 432x288 with 1 Axes>"
      ]
     },
     "metadata": {
      "needs_background": "light"
     },
     "output_type": "display_data"
    }
   ],
   "source": [
    "# Service distribution\n",
    "sns.countplot(x='service', data=users, order= users['service'].value_counts().index)\n",
    "plt.title('Popular Services Subscribed')\n",
    "plt.show()"
   ]
  },
  {
   "cell_type": "code",
   "execution_count": 482,
   "id": "ab8da940",
   "metadata": {},
   "outputs": [
    {
     "data": {
      "text/plain": [
       "ps    38.0\n",
       "ma    21.0\n",
       "cl    20.0\n",
       "tv    12.0\n",
       "gc    10.0\n",
       "Name: service, dtype: float64"
      ]
     },
     "execution_count": 482,
     "metadata": {},
     "output_type": "execute_result"
    }
   ],
   "source": [
    "# show percentage of each category\n",
    "(users.service.value_counts(normalize=True) * 100).round()"
   ]
  },
  {
   "cell_type": "markdown",
   "id": "13e5ef9c",
   "metadata": {},
   "source": [
    "### How many users are from each affiliate and phone operators did they use?"
   ]
  },
  {
   "cell_type": "code",
   "execution_count": 483,
   "id": "8d386362",
   "metadata": {},
   "outputs": [
    {
     "data": {
      "image/png": "[encoded data removed]",
      "text/plain": [
       "<Figure size 864x432 with 1 Axes>"
      ]
     },
     "metadata": {
      "needs_background": "light"
     },
     "output_type": "display_data"
    }
   ],
   "source": [
    "# Affiliate effectivnes and usage of phone operators\n",
    "grouped_data = users.groupby(['phone_operator', 'affiliate']).size().reset_index(name='count')\n",
    "\n",
    "plt.figure(figsize=(12, 6))\n",
    "sns.barplot(x='affiliate', y='count', hue='phone_operator', data=grouped_data, order = grouped_data['affiliate'].value_counts().index)\n",
    "plt.title('User count by affiliate and phone operator')\n",
    "plt.xlabel('Affiliate')\n",
    "plt.ylabel('User count')\n",
    "plt.legend(title='Phone Operator')\n",
    "plt.tight_layout()\n",
    "plt.show()"
   ]
  },
  {
   "cell_type": "markdown",
   "id": "102f79ef",
   "metadata": {},
   "source": [
    "### Transactions data"
   ]
  },
  {
   "cell_type": "markdown",
   "id": "5d242ebc",
   "metadata": {},
   "source": [
    "### How many successful transactions were executed?"
   ]
  },
  {
   "cell_type": "code",
   "execution_count": 484,
   "id": "a09802b3",
   "metadata": {},
   "outputs": [
    {
     "data": {
      "image/png": "[encoded data removed]",
      "text/plain": [
       "<Figure size 432x288 with 1 Axes>"
      ]
     },
     "metadata": {
      "needs_background": "light"
     },
     "output_type": "display_data"
    }
   ],
   "source": [
    "# Transaction status distribution\n",
    "sns.countplot(x='status', data=transactions)\n",
    "plt.title('Transaction Status Distribution')\n",
    "plt.show()"
   ]
  },
  {
   "cell_type": "code",
   "execution_count": 485,
   "id": "1159fedb",
   "metadata": {},
   "outputs": [
    {
     "data": {
      "text/plain": [
       "Failed       72.0\n",
       "Delivered    28.0\n",
       "Pending       0.0\n",
       "Name: status, dtype: float64"
      ]
     },
     "execution_count": 485,
     "metadata": {},
     "output_type": "execute_result"
    }
   ],
   "source": [
    "# Distribution in percents\n",
    "(transactions.status.value_counts(normalize=True) * 100).round()"
   ]
  },
  {
   "cell_type": "code",
   "execution_count": 486,
   "id": "8ed43251",
   "metadata": {},
   "outputs": [
    {
     "data": {
      "text/plain": [
       "Failed       45268\n",
       "Delivered    17601\n",
       "Pending          2\n",
       "Name: status, dtype: int64"
      ]
     },
     "execution_count": 486,
     "metadata": {},
     "output_type": "execute_result"
    }
   ],
   "source": [
    "transactions.status.value_counts().round()"
   ]
  },
  {
   "cell_type": "markdown",
   "id": "d2db7bb4",
   "metadata": {},
   "source": [
    "### How many transactions happened on each date and with what status?"
   ]
  },
  {
   "cell_type": "code",
   "execution_count": 487,
   "id": "293f1fd6",
   "metadata": {},
   "outputs": [
    {
     "data": {
      "image/png": "[encoded data removed]",
      "text/plain": [
       "<Figure size 864x432 with 1 Axes>"
      ]
     },
     "metadata": {
      "needs_background": "light"
     },
     "output_type": "display_data"
    }
   ],
   "source": [
    "# Transaction status by time\n",
    "# Create date column\n",
    "transactions['transaction_date'] = pd.to_datetime(transactions['transaction_timestamp']).dt.date\n",
    "\n",
    "# Group by transaction date and status\n",
    "grouped_transactions = transactions.groupby(['transaction_date', 'status']).size().reset_index(name='count')\n",
    "\n",
    "plt.figure(figsize=(12, 6))\n",
    "\n",
    "statuses = grouped_transactions['status'].unique()\n",
    "for status in statuses:\n",
    "    subset = grouped_transactions[grouped_transactions['status'] == status]\n",
    "    plt.scatter(subset['transaction_date'], subset['count'], label=status)\n",
    "\n",
    "plt.title('Transaction status distribution by date')\n",
    "plt.xlabel('Date')\n",
    "plt.ylabel('Number of Transactions')\n",
    "plt.xticks(date_range, [d.strftime('%Y-%m-%d') for d in date_range], rotation=45)\n",
    "plt.legend(title='Transaction Status')\n",
    "plt.tight_layout()\n",
    "plt.show()"
   ]
  },
  {
   "cell_type": "code",
   "execution_count": 488,
   "id": "0f5c2ec5",
   "metadata": {},
   "outputs": [
    {
     "name": "stdout",
     "output_type": "stream",
     "text": [
      "Revenue from delivered transactions: 75705.6\n"
     ]
    }
   ],
   "source": [
    "# Revenue analysis\n",
    "delivered_transactions = transactions[transactions['status'] == 'Delivered']\n",
    "total_revenue = delivered_transactions['pricepoint'].sum().round(2)\n",
    "print(f\"Revenue from delivered transactions: {total_revenue}\")"
   ]
  },
  {
   "cell_type": "markdown",
   "id": "d23f3d67",
   "metadata": {},
   "source": [
    "### Which affiliates are leading to more successful transactions?"
   ]
  },
  {
   "cell_type": "code",
   "execution_count": 489,
   "id": "d898eabc",
   "metadata": {},
   "outputs": [
    {
     "data": {
      "image/png": "[encoded data removed]",
      "text/plain": [
       "<Figure size 720x432 with 1 Axes>"
      ]
     },
     "metadata": {
      "needs_background": "light"
     },
     "output_type": "display_data"
    }
   ],
   "source": [
    "# Merging users and transactions on user_id\n",
    "merged_data = pd.merge(users, transactions, on='user_id', how='inner')\n",
    "\n",
    "# Focus on successful transactions only\n",
    "successful_transactions = merged_data[merged_data['status'] == 'Delivered']\n",
    "\n",
    "# Aggregate data to calculate total revenue per affiliate\n",
    "affiliate_revenue = successful_transactions.groupby('affiliate')['pricepoint'].sum().reset_index()\n",
    "\n",
    "# Sort the results for better visualization\n",
    "affiliate_revenue = affiliate_revenue.sort_values(by='pricepoint', ascending=False)\n",
    "\n",
    "# Plotting\n",
    "plt.figure(figsize=(10, 6))\n",
    "sns.barplot(x='affiliate', y='pricepoint', data=affiliate_revenue)\n",
    "plt.title('Revenue Generation by Affiliates')\n",
    "plt.xlabel('Affiliate')\n",
    "plt.ylabel('Total Revenue')\n",
    "plt.show()"
   ]
  },
  {
   "cell_type": "markdown",
   "id": "1ace4c07",
   "metadata": {},
   "source": [
    "### Is there a correlation between phone opertator and transaction success?"
   ]
  },
  {
   "cell_type": "code",
   "execution_count": 490,
   "id": "0bea1eb5",
   "metadata": {
    "scrolled": true
   },
   "outputs": [
    {
     "data": {
      "image/png": "[encoded data removed]",
      "text/plain": [
       "<Figure size 432x288 with 1 Axes>"
      ]
     },
     "metadata": {
      "needs_background": "light"
     },
     "output_type": "display_data"
    }
   ],
   "source": [
    "# Correlation between phone opertator and transaction success\n",
    "os_transaction_success = transactions.groupby(['phone_operator', 'status']).size().unstack().fillna(0)\n",
    "\n",
    "# Normalize the transaction counts by OS name\n",
    "os_transaction_success_normalized = os_transaction_success.div(os_transaction_success.sum(axis=1), axis=0)\n",
    "\n",
    "# Plotting\n",
    "os_transaction_success_normalized.plot(kind='bar', stacked=True)\n",
    "plt.xticks(rotation = 0)\n",
    "plt.title('Transaction success rate by phone operator')\n",
    "plt.xlabel('Phone operator')\n",
    "plt.ylabel('Proportion of Transaction Status')\n",
    "plt.legend(title='Transaction Status')\n",
    "plt.show()"
   ]
  },
  {
   "cell_type": "markdown",
   "id": "f54d982e",
   "metadata": {},
   "source": [
    "### How may users did not have any succesful transactions?"
   ]
  },
  {
   "cell_type": "code",
   "execution_count": 491,
   "id": "d166073c",
   "metadata": {},
   "outputs": [
    {
     "name": "stdout",
     "output_type": "stream",
     "text": [
      "Number of users with at least one successful final transaction: 6832\n",
      "Number of users with only failed transactions: 7993\n",
      "Percent of only failed transactions: 54 %\n"
     ]
    }
   ],
   "source": [
    "# Sort transactions by user_id and transaction timestamp\n",
    "merged_data_sorted = merged_data.sort_values(by=['user_id', 'transaction_timestamp'])\n",
    "\n",
    "# Group by user_id and get the last transaction status\n",
    "final_transaction_status = merged_data_sorted.groupby('user_id')['status'].last()\n",
    "\n",
    "# Users with at least one successful final transaction\n",
    "successful_final_users = final_transaction_status[final_transaction_status == 'Delivered'].index\n",
    "\n",
    "# Users with only failed transactions\n",
    "failed_transactions_only_users = final_transaction_status[~final_transaction_status.index.isin(successful_final_users)].index\n",
    "\n",
    "# Count the number of users in each group\n",
    "num_successful_final_users = len(successful_final_users)\n",
    "num_failed_transactions_only_users = len(failed_transactions_only_users)\n",
    "percent_failed = round(num_failed_transactions_only_users * 100/(num_failed_transactions_only_users + num_successful_final_users))\n",
    "\n",
    "print(f\"Number of users with at least one successful final transaction: {num_successful_final_users}\")\n",
    "print(f\"Number of users with only failed transactions: {num_failed_transactions_only_users}\")\n",
    "print(f\"Percent of only failed transactions: {percent_failed} %\")\n"
   ]
  }
 ],
 "metadata": {
  "kernelspec": {
   "display_name": "Python 3 (ipykernel)",
   "language": "python",
   "name": "python3"
  },
  "language_info": {
   "codemirror_mode": {
    "name": "ipython",
    "version": 3
   },
   "file_extension": ".py",
   "mimetype": "text/x-python",
   "name": "python",
   "nbconvert_exporter": "python",
   "pygments_lexer": "ipython3",
   "version": "3.9.17"
  }
 },
 "nbformat": 4,
 "nbformat_minor": 5
}
